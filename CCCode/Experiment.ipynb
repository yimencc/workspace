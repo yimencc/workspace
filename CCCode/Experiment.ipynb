{
 "cells": [
  {
   "cell_type": "code",
   "execution_count": 1,
   "metadata": {},
   "outputs": [],
   "source": [
    "import numpy\n",
    "import sys\n",
    "import os\n",
    "import matplotlib.pyplot as plt\n",
    "import skimage.io as sio\n",
    "from skimage.transform import resize\n",
    "%matplotlib inline\n",
    "import imp\n",
    "sys.path.append(\"D:\\\\Workspace\\\\git_proj\\\\CCCode\\\\\")\n",
    "import imaging_process"
   ]
  },
  {
   "cell_type": "code",
   "execution_count": 2,
   "metadata": {},
   "outputs": [
    {
     "name": "stdout",
     "output_type": "stream",
     "text": [
      "拦截: spatial_transfer\n",
      "拦截: _coordinate_fre\n",
      "拦截: wavefront\n",
      "拦截: p_s\n",
      "拦截: p_s\n",
      "拦截: p_s\n",
      "拦截: p_s\n",
      "拦截: k\n",
      "拦截: k\n",
      "拦截: k\n",
      "拦截: wavefront\n",
      "拦截: wavefront_ft\n"
     ]
    }
   ],
   "source": [
    "imp.reload(imaging_process)\n",
    "from imaging_process import Check, Wavefront, img_val_norm\n",
    "\n",
    "PIXEL_SIZE = 5e-6\n",
    "PIXEL_NUM = 512\n",
    "WAVELENGTH = 500e-9\n",
    "\n",
    "# import images\n",
    "imgs_path = \"D:\\\\Workspace\\\\datasets\\\\open_image_val_standard\"\n",
    "imgs_name_list = os.listdir(imgs_path)[0:2]\n",
    "imgs_fpath_list = [os.path.join(imgs_path, img_name) for img_name in imgs_name_list]\n",
    "amp_img = img_val_norm(resize(sio.imread(imgs_fpath_list[0]), (PIXEL_NUM, PIXEL_NUM)), 0.1, 1)\n",
    "pha_img = img_val_norm(resize(sio.imread(imgs_fpath_list[1]), (PIXEL_NUM, PIXEL_NUM)), 0.2, 1.5)\n",
    "\n",
    "wf_obj = Wavefront.from_bioimage(amp_img, pha_img, WAVELENGTH, PIXEL_SIZE)\n",
    "wf_init_ft = wf_obj.spatial_transfer(1e-3).wavefront_ft"
   ]
  }
 ],
 "metadata": {
  "kernelspec": {
   "display_name": "tensorflow",
   "language": "python",
   "name": "tensorflow"
  },
  "language_info": {
   "codemirror_mode": {
    "name": "ipython",
    "version": 3
   },
   "file_extension": ".py",
   "mimetype": "text/x-python",
   "name": "python",
   "nbconvert_exporter": "python",
   "pygments_lexer": "ipython3",
   "version": "3.7.6"
  }
 },
 "nbformat": 4,
 "nbformat_minor": 4
}
